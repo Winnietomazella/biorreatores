{
  "nbformat": 4,
  "nbformat_minor": 0,
  "metadata": {
    "colab": {
      "provenance": [],
      "include_colab_link": true
    },
    "kernelspec": {
      "name": "python3",
      "display_name": "Python 3"
    }
  },
  "cells": [
    {
      "cell_type": "markdown",
      "metadata": {
        "id": "view-in-github",
        "colab_type": "text"
      },
      "source": [
        "<a href=\"https://colab.research.google.com/github/marcelcerri/biorreatores/blob/main/Aula_introdut%C3%B3ria_de_Python.ipynb\" target=\"_parent\"><img src=\"https://colab.research.google.com/assets/colab-badge.svg\" alt=\"Open In Colab\"/></a>"
      ]
    },
    {
      "cell_type": "markdown",
      "metadata": {
        "id": "HRY9I5PsS-kh"
      },
      "source": [
        "#**Aula introdutória de Python**"
      ]
    },
    {
      "cell_type": "code",
      "metadata": {
        "id": "o7kmIYDGHDnD"
      },
      "source": [],
      "execution_count": 1,
      "outputs": []
    },
    {
      "cell_type": "markdown",
      "metadata": {
        "id": "qhwc36j2HEQt"
      },
      "source": [
        "sldkjfasdlçkjfçsldkjf"
      ]
    },
    {
      "cell_type": "code",
      "metadata": {
        "id": "znJJBs4pS84q",
        "colab": {
          "base_uri": "https://localhost:8080/"
        },
        "outputId": "b7cd98cb-0d33-4221-ef69-701ab513b2da"
      },
      "source": [
        "# Minha primeira frase\n",
        "print('Olá Python')"
      ],
      "execution_count": 2,
      "outputs": [
        {
          "output_type": "stream",
          "name": "stdout",
          "text": [
            "Olá Python\n"
          ]
        }
      ]
    },
    {
      "cell_type": "code",
      "metadata": {
        "id": "suZgDcr5TIq1",
        "colab": {
          "base_uri": "https://localhost:8080/"
        },
        "outputId": "1bc0e307-13ca-48a5-9619-ffa3b0403aab"
      },
      "source": [
        "# Vamos tentar diferente\n",
        "a = 'Olá'\n",
        "b = ' Python'\n",
        "print(a + b)"
      ],
      "execution_count": 3,
      "outputs": [
        {
          "output_type": "stream",
          "name": "stdout",
          "text": [
            "Olá Python\n"
          ]
        }
      ]
    },
    {
      "cell_type": "code",
      "metadata": {
        "id": "DDd0wu7BTMW8",
        "colab": {
          "base_uri": "https://localhost:8080/"
        },
        "outputId": "66c41b7a-cf3d-46cd-8b26-a63be0559a9f"
      },
      "source": [
        "# Contas Simples\n",
        "4 + 7"
      ],
      "execution_count": 4,
      "outputs": [
        {
          "output_type": "execute_result",
          "data": {
            "text/plain": [
              "11"
            ]
          },
          "metadata": {},
          "execution_count": 4
        }
      ]
    },
    {
      "cell_type": "code",
      "metadata": {
        "id": "maWReaoITN8h",
        "colab": {
          "base_uri": "https://localhost:8080/"
        },
        "outputId": "77d93dda-d950-4f40-dfb7-e946465afdd7"
      },
      "source": [
        "# Subtração\n",
        "print(7 - 4)\n",
        "# Divisão\n",
        "print (8 / 2)\n",
        "# Multiplicação\n",
        "print (12 * 7)\n",
        "# Exponenciação\n",
        "print (2 ** 5)\n",
        "# Divisão - parte inteira\n",
        "print (11 // 2)\n",
        "# Divisão - resto"
      ],
      "execution_count": 5,
      "outputs": [
        {
          "output_type": "stream",
          "name": "stdout",
          "text": [
            "3\n",
            "4.0\n",
            "84\n",
            "32\n",
            "5\n"
          ]
        }
      ]
    },
    {
      "cell_type": "code",
      "metadata": {
        "id": "kHurTEyRTPmv",
        "colab": {
          "base_uri": "https://localhost:8080/"
        },
        "outputId": "04645c45-2254-47ee-99ac-2f0e492c3627"
      },
      "source": [
        "a = 7 - 4\n",
        "print(type(a))\n",
        "b = 7 - 4.0\n",
        "print(type(b))"
      ],
      "execution_count": 6,
      "outputs": [
        {
          "output_type": "stream",
          "name": "stdout",
          "text": [
            "<class 'int'>\n",
            "<class 'float'>\n"
          ]
        }
      ]
    },
    {
      "cell_type": "code",
      "metadata": {
        "id": "8X-tuhprTSwY",
        "colab": {
          "base_uri": "https://localhost:8080/"
        },
        "outputId": "0ad0756c-939a-48cc-cc5d-d284839a8e5a"
      },
      "source": [
        "c = 'quatro'\n",
        "print(type(c))\n",
        "d = 4+2j\n",
        "print(type(d))\n",
        "e = True\n",
        "print(type(e))"
      ],
      "execution_count": 7,
      "outputs": [
        {
          "output_type": "stream",
          "name": "stdout",
          "text": [
            "<class 'str'>\n",
            "<class 'complex'>\n",
            "<class 'bool'>\n"
          ]
        }
      ]
    },
    {
      "cell_type": "markdown",
      "metadata": {
        "id": "4eMhBl7oTxzm"
      },
      "source": [
        "**Trabalhar com vetores e Matriz**"
      ]
    },
    {
      "cell_type": "code",
      "metadata": {
        "id": "zkdgRFrNTWW0"
      },
      "source": [
        "import numpy as np"
      ],
      "execution_count": 8,
      "outputs": []
    },
    {
      "cell_type": "code",
      "metadata": {
        "id": "_cXBX_kdThgd",
        "colab": {
          "base_uri": "https://localhost:8080/"
        },
        "outputId": "796a846b-4553-4c54-db01-780b453ad447"
      },
      "source": [
        "a = np.array([1,2,3,4])\n",
        "print(a)"
      ],
      "execution_count": 9,
      "outputs": [
        {
          "output_type": "stream",
          "name": "stdout",
          "text": [
            "[1 2 3 4]\n"
          ]
        }
      ]
    },
    {
      "cell_type": "code",
      "metadata": {
        "id": "Djz_QyrKT2Xx",
        "colab": {
          "base_uri": "https://localhost:8080/"
        },
        "outputId": "73e78f30-1f82-4907-8653-7d4a812f5195"
      },
      "source": [
        "b = np.array([(1.5,2,3), (4,5,6)])\n",
        "print(b)"
      ],
      "execution_count": 10,
      "outputs": [
        {
          "output_type": "stream",
          "name": "stdout",
          "text": [
            "[[1.5 2.  3. ]\n",
            " [4.  5.  6. ]]\n"
          ]
        }
      ]
    },
    {
      "cell_type": "code",
      "metadata": {
        "id": "ve2EoHuPT-58",
        "colab": {
          "base_uri": "https://localhost:8080/"
        },
        "outputId": "7708748d-424c-4827-d445-7173ddcb482b"
      },
      "source": [
        "c = np.zeros( (3,4) ) # Matriz de zeros\n",
        "print(c)"
      ],
      "execution_count": 11,
      "outputs": [
        {
          "output_type": "stream",
          "name": "stdout",
          "text": [
            "[[0. 0. 0. 0.]\n",
            " [0. 0. 0. 0.]\n",
            " [0. 0. 0. 0.]]\n"
          ]
        }
      ]
    },
    {
      "cell_type": "code",
      "metadata": {
        "id": "MURJTmF1UF15",
        "colab": {
          "base_uri": "https://localhost:8080/"
        },
        "outputId": "27a28775-4557-4ff2-9aaa-b76b6cbedd1b"
      },
      "source": [
        "d = np.eye(2)   # Matriz Identidade\n",
        "print(d)"
      ],
      "execution_count": 12,
      "outputs": [
        {
          "output_type": "stream",
          "name": "stdout",
          "text": [
            "[[1. 0.]\n",
            " [0. 1.]]\n"
          ]
        }
      ]
    },
    {
      "cell_type": "code",
      "metadata": {
        "id": "PKWDac8ZU65k",
        "colab": {
          "base_uri": "https://localhost:8080/"
        },
        "outputId": "524e1489-6fd1-4c01-976a-f7da0d59bf78"
      },
      "source": [
        "e = np.random.random((2,2))  # Valores aleatórios\n",
        "print(e)"
      ],
      "execution_count": 13,
      "outputs": [
        {
          "output_type": "stream",
          "name": "stdout",
          "text": [
            "[[0.54860672 0.08830795]\n",
            " [0.7449591  0.68168995]]\n"
          ]
        }
      ]
    },
    {
      "cell_type": "code",
      "metadata": {
        "id": "Ubv2M1PlU7vc",
        "colab": {
          "base_uri": "https://localhost:8080/"
        },
        "outputId": "da08f910-bbfb-4660-e05a-43f462faa19f"
      },
      "source": [
        "A = np.array([[1,2,3,4], [5,6,7,8], [9,10,11,12]])\n",
        "print(A)"
      ],
      "execution_count": 14,
      "outputs": [
        {
          "output_type": "stream",
          "name": "stdout",
          "text": [
            "[[ 1  2  3  4]\n",
            " [ 5  6  7  8]\n",
            " [ 9 10 11 12]]\n"
          ]
        }
      ]
    },
    {
      "cell_type": "code",
      "metadata": {
        "id": "ckvSjYtLVE4M",
        "colab": {
          "base_uri": "https://localhost:8080/"
        },
        "outputId": "36b26ffc-40c7-4955-cf6e-bb4fabc0a5fe"
      },
      "source": [
        "B = A[1,1] # Como acessar os dados do vetor, primeiro número coluna, segundo linha\n",
        "print(B)"
      ],
      "execution_count": 15,
      "outputs": [
        {
          "output_type": "stream",
          "name": "stdout",
          "text": [
            "6\n"
          ]
        }
      ]
    },
    {
      "cell_type": "code",
      "metadata": {
        "id": "8pef16d2Vg3M",
        "colab": {
          "base_uri": "https://localhost:8080/"
        },
        "outputId": "cf9f25b4-da2b-4edf-f4cb-87215e4c55b8"
      },
      "source": [
        "C = A[:,2]\n",
        "print(C)"
      ],
      "execution_count": 16,
      "outputs": [
        {
          "output_type": "stream",
          "name": "stdout",
          "text": [
            "[ 3  7 11]\n"
          ]
        }
      ]
    },
    {
      "cell_type": "code",
      "metadata": {
        "id": "DvTtJBcvVzmo",
        "colab": {
          "base_uri": "https://localhost:8080/"
        },
        "outputId": "bd79710f-5e36-494f-819f-dfcb9fcc58e3"
      },
      "source": [
        "D = A[1,:]\n",
        "print(D)"
      ],
      "execution_count": 17,
      "outputs": [
        {
          "output_type": "stream",
          "name": "stdout",
          "text": [
            "[5 6 7 8]\n"
          ]
        }
      ]
    },
    {
      "cell_type": "markdown",
      "metadata": {
        "id": "EC2EEZLGWQv9"
      },
      "source": [
        "**Como criar vetores de outra maneira**"
      ]
    },
    {
      "cell_type": "code",
      "metadata": {
        "id": "J42Lt-1bV8tU",
        "colab": {
          "base_uri": "https://localhost:8080/"
        },
        "outputId": "2cb70b90-9835-44f6-aceb-fa7765c1fd49"
      },
      "source": [
        "V = np.arange( 10, 30, 5 )\n",
        "print(V)"
      ],
      "execution_count": 18,
      "outputs": [
        {
          "output_type": "stream",
          "name": "stdout",
          "text": [
            "[10 15 20 25]\n"
          ]
        }
      ]
    },
    {
      "cell_type": "code",
      "metadata": {
        "id": "awn7M9dRWZ-s",
        "colab": {
          "base_uri": "https://localhost:8080/"
        },
        "outputId": "b0d5de47-c529-48da-9af3-4330697abcf4"
      },
      "source": [
        "W = np.arange( 0, 2, 0.3 )\n",
        "print(W)"
      ],
      "execution_count": 19,
      "outputs": [
        {
          "output_type": "stream",
          "name": "stdout",
          "text": [
            "[0.  0.3 0.6 0.9 1.2 1.5 1.8]\n"
          ]
        }
      ]
    },
    {
      "cell_type": "code",
      "metadata": {
        "id": "hNoXo95SWg0Y",
        "colab": {
          "base_uri": "https://localhost:8080/"
        },
        "outputId": "61d8d2e2-8c7d-4543-b670-102eaf13e748"
      },
      "source": [
        "AB = np.linspace( 0, 2, 9 )\n",
        "print(AB)"
      ],
      "execution_count": 20,
      "outputs": [
        {
          "output_type": "stream",
          "name": "stdout",
          "text": [
            "[0.   0.25 0.5  0.75 1.   1.25 1.5  1.75 2.  ]\n"
          ]
        }
      ]
    },
    {
      "cell_type": "code",
      "metadata": {
        "id": "dhSSByw1Wskw",
        "colab": {
          "base_uri": "https://localhost:8080/"
        },
        "outputId": "4823446f-6694-4ece-cc85-13e3cd7de84e"
      },
      "source": [
        "x = np.linspace( 0, 2*np.pi, 15 )\n",
        "f = np.sin(x)\n",
        "print(x)\n",
        "print(f)"
      ],
      "execution_count": 21,
      "outputs": [
        {
          "output_type": "stream",
          "name": "stdout",
          "text": [
            "[0.         0.44879895 0.8975979  1.34639685 1.7951958  2.24399475\n",
            " 2.6927937  3.14159265 3.5903916  4.03919055 4.48798951 4.93678846\n",
            " 5.38558741 5.83438636 6.28318531]\n",
            "[ 0.00000000e+00  4.33883739e-01  7.81831482e-01  9.74927912e-01\n",
            "  9.74927912e-01  7.81831482e-01  4.33883739e-01  1.22464680e-16\n",
            " -4.33883739e-01 -7.81831482e-01 -9.74927912e-01 -9.74927912e-01\n",
            " -7.81831482e-01 -4.33883739e-01 -2.44929360e-16]\n"
          ]
        }
      ]
    },
    {
      "cell_type": "code",
      "metadata": {
        "id": "fT6D8mUPW81U",
        "colab": {
          "base_uri": "https://localhost:8080/"
        },
        "outputId": "b1b5c80c-16db-464d-c7c4-15760725db3f"
      },
      "source": [
        "A = np.array( [[1,1], [0,1]] )\n",
        "B = np.array( [[2,0], [3,4]] )\n",
        "print(A)\n",
        "print(B)"
      ],
      "execution_count": 22,
      "outputs": [
        {
          "output_type": "stream",
          "name": "stdout",
          "text": [
            "[[1 1]\n",
            " [0 1]]\n",
            "[[2 0]\n",
            " [3 4]]\n"
          ]
        }
      ]
    },
    {
      "cell_type": "code",
      "metadata": {
        "id": "BDB6IQ0_Y9mf",
        "colab": {
          "base_uri": "https://localhost:8080/"
        },
        "outputId": "8ee391c6-5c49-4d2a-c33d-d92fccbc3054"
      },
      "source": [
        "A * B  #produto escalar"
      ],
      "execution_count": 23,
      "outputs": [
        {
          "output_type": "execute_result",
          "data": {
            "text/plain": [
              "array([[2, 0],\n",
              "       [0, 4]])"
            ]
          },
          "metadata": {},
          "execution_count": 23
        }
      ]
    },
    {
      "cell_type": "code",
      "metadata": {
        "id": "Mm9Vln8JZI2b",
        "colab": {
          "base_uri": "https://localhost:8080/"
        },
        "outputId": "7391e12c-8c37-4ac4-f5ef-374191b53ae1"
      },
      "source": [
        "A.dot(B) #produto vetorial"
      ],
      "execution_count": 24,
      "outputs": [
        {
          "output_type": "execute_result",
          "data": {
            "text/plain": [
              "array([[5, 4],\n",
              "       [3, 4]])"
            ]
          },
          "metadata": {},
          "execution_count": 24
        }
      ]
    },
    {
      "cell_type": "code",
      "metadata": {
        "id": "DclRSHdSZQdX",
        "colab": {
          "base_uri": "https://localhost:8080/"
        },
        "outputId": "af8d35d3-814c-439d-f318-068cdb24e351"
      },
      "source": [
        "np.linalg.det(A) # Determinante"
      ],
      "execution_count": 25,
      "outputs": [
        {
          "output_type": "execute_result",
          "data": {
            "text/plain": [
              "1.0"
            ]
          },
          "metadata": {},
          "execution_count": 25
        }
      ]
    },
    {
      "cell_type": "code",
      "metadata": {
        "id": "hQq1X3lGZ2DQ",
        "colab": {
          "base_uri": "https://localhost:8080/"
        },
        "outputId": "923f73d0-7462-45af-c007-56a60c53c69b"
      },
      "source": [
        "a= np.array([[1., 2.], [3., 4.]])\n",
        "ainv = np.linalg.inv(a)\n",
        "print(ainv)"
      ],
      "execution_count": 26,
      "outputs": [
        {
          "output_type": "stream",
          "name": "stdout",
          "text": [
            "[[-2.   1. ]\n",
            " [ 1.5 -0.5]]\n"
          ]
        }
      ]
    },
    {
      "cell_type": "markdown",
      "metadata": {
        "id": "HDBJq3s_aigh"
      },
      "source": [
        "Solução de sistemas de equações lineares"
      ]
    },
    {
      "cell_type": "code",
      "metadata": {
        "id": "0p48Ng_AaLrb",
        "colab": {
          "base_uri": "https://localhost:8080/"
        },
        "outputId": "b2dbfc0a-6adb-4b01-dde8-cc0c8eb7a215"
      },
      "source": [
        "# Declarar as matrizes\n",
        "A = np.array([[1,1],[-3,1]])\n",
        "B = np.array([[6],[2]])\n",
        "\n",
        "# Encontrar a inversa de A\n",
        "A_inversa = np.linalg.inv(A)\n",
        "\n",
        "# Encontrar X = A^{-1} * B\n",
        "X = np.dot(A_inversa, B)\n",
        "\n",
        "# mostrar o resultado para cada variável\n",
        "print(\"x = \", X[0])\n",
        "print(\"y = \", X[1])"
      ],
      "execution_count": 27,
      "outputs": [
        {
          "output_type": "stream",
          "name": "stdout",
          "text": [
            "x =  [1.]\n",
            "y =  [5.]\n"
          ]
        }
      ]
    },
    {
      "cell_type": "code",
      "metadata": {
        "id": "DmITEjcsaoBA",
        "colab": {
          "base_uri": "https://localhost:8080/"
        },
        "outputId": "2d7e283b-a9df-4659-8d27-2c0ce906f04c"
      },
      "source": [
        "# declarar as matrizes\n",
        "A = np.array([[1,1],[-3,1]])\n",
        "B = np.array([[6],[2]])\n",
        "\n",
        "# encontraremos X usando a função solve()\n",
        "X = np.linalg.solve(A,B)\n",
        "\n",
        "# mostrar o resultado para cada variável\n",
        "print(\"x = \", X[0])\n",
        "print(\"y = \", X[1])"
      ],
      "execution_count": 28,
      "outputs": [
        {
          "output_type": "stream",
          "name": "stdout",
          "text": [
            "x =  [1.]\n",
            "y =  [5.]\n"
          ]
        }
      ]
    },
    {
      "cell_type": "markdown",
      "metadata": {
        "id": "9VrxtfBncSPU"
      },
      "source": [
        "Raízes de uma equação do segundo grau"
      ]
    },
    {
      "cell_type": "code",
      "metadata": {
        "id": "uqJMD8A1bULk",
        "colab": {
          "base_uri": "https://localhost:8080/"
        },
        "outputId": "ecd55e3b-9911-427c-9611-cc38e53062a0"
      },
      "source": [
        "# Resolvendo ax**2 + bx + c = 0\n",
        "\n",
        "# Importando o pacote de numeros complexos\n",
        "import cmath\n",
        "\n",
        "#a = 1\n",
        "#b = 5\n",
        "#c = 6\n",
        "\n",
        "# Entrada dos coeficientes\n",
        "a = float(input('Entre com o valor de a: '))\n",
        "b = float(input('Entre com o valor de b: '))\n",
        "c = float(input('Entre com o valor de c: '))\n",
        "\n",
        "# Calculando o discriminante\n",
        "d = (b**2) - (4*a*c)\n",
        "\n",
        "# Encontrando a solução\n",
        "sol1 = (-b-cmath.sqrt(d))/(2*a)\n",
        "sol2 = (-b+cmath.sqrt(d))/(2*a)\n",
        "\n",
        "print('A solução é  {0} and {1}'.format(sol1,sol2))"
      ],
      "execution_count": 29,
      "outputs": [
        {
          "output_type": "stream",
          "name": "stdout",
          "text": [
            "Entre com o valor de a: 1\n",
            "Entre com o valor de b: 2\n",
            "Entre com o valor de c: 3\n",
            "A solução é  (-1-1.4142135623730951j) and (-1+1.4142135623730951j)\n"
          ]
        }
      ]
    },
    {
      "cell_type": "code",
      "metadata": {
        "id": "b7y7sPbTdG2b",
        "colab": {
          "base_uri": "https://localhost:8080/"
        },
        "outputId": "1a30eb66-5a7e-44f2-fc53-a7441febd651"
      },
      "source": [
        "coeff = [1, 5, 6]\n",
        "A = np.roots(coeff)\n",
        "print('A solução é  {0} and {1}'.format(A[0],A[1]))\n"
      ],
      "execution_count": 30,
      "outputs": [
        {
          "output_type": "stream",
          "name": "stdout",
          "text": [
            "A solução é  -3.0000000000000004 and -1.9999999999999998\n"
          ]
        }
      ]
    },
    {
      "cell_type": "code",
      "metadata": {
        "id": "QTpBPqyIdt4T",
        "colab": {
          "base_uri": "https://localhost:8080/"
        },
        "outputId": "bc5b8f48-5517-48ff-f3f4-145174b6492b"
      },
      "source": [
        "from math import sqrt\n",
        "\n",
        "print(\"Função quadrática : (a * x^2) + b*x + c\")\n",
        "a = float(input(\"a: \"))\n",
        "b = float(input(\"b: \"))\n",
        "c = float(input(\"c: \"))\n",
        "\n",
        "r = b**2 - 4*a*c\n",
        "\n",
        "if r > 0:\n",
        "    num_roots = 2\n",
        "    x1 = (((-b) + sqrt(r))/(2*a))\n",
        "    x2 = (((-b) - sqrt(r))/(2*a))\n",
        "    print(\"Tem duas raízes: %f and %f\" % (x1, x2))\n",
        "elif r == 0:\n",
        "    num_roots = 1\n",
        "    x = (-b) / 2*a\n",
        "    print(\"Tem uma raíz: \", x)\n",
        "else:\n",
        "    num_roots = 0\n",
        "    print(\"Sem raízes, discriminante < 0.\")\n",
        "    exit()"
      ],
      "execution_count": 31,
      "outputs": [
        {
          "output_type": "stream",
          "name": "stdout",
          "text": [
            "Função quadrática : (a * x^2) + b*x + c\n",
            "a: 2\n",
            "b: 3\n",
            "c: 4\n",
            "Sem raízes, discriminante < 0.\n"
          ]
        }
      ]
    },
    {
      "cell_type": "markdown",
      "metadata": {
        "id": "I1dnKcNlg2p8"
      },
      "source": [
        "# Construindo Gráficos"
      ]
    },
    {
      "cell_type": "code",
      "metadata": {
        "id": "1hHTjRqzg7Fp",
        "colab": {
          "base_uri": "https://localhost:8080/",
          "height": 472
        },
        "outputId": "7689c66c-0c35-48d0-9dc8-a8a6ea01abd4"
      },
      "source": [
        "import numpy as np\n",
        "from matplotlib import pyplot as plt\n",
        "\n",
        "\n",
        "x = np.arange(1,11)\n",
        "y = 2 * x + 5\n",
        "plt.title(\"Matplotlib demo\")\n",
        "plt.xlabel(\"x axis caption\")\n",
        "plt.ylabel(\"y axis caption\")\n",
        "plt.plot(x,y, \"ok\")\n",
        "plt.show()"
      ],
      "execution_count": 32,
      "outputs": [
        {
          "output_type": "display_data",
          "data": {
            "text/plain": [
              "<Figure size 640x480 with 1 Axes>"
            ],
            "image/png": "[encoded data removed]"
          },
          "metadata": {}
        }
      ]
    },
    {
      "cell_type": "markdown",
      "metadata": {
        "id": "MupJa8t5hA61"
      },
      "source": [
        "https://www.tutorialspoint.com/numpy/numpy_matplotlib.htm"
      ]
    },
    {
      "cell_type": "code",
      "metadata": {
        "id": "eFXH4jV6g78w",
        "colab": {
          "base_uri": "https://localhost:8080/",
          "height": 472
        },
        "outputId": "f7485a7d-77d8-48fd-9738-d71275073f01"
      },
      "source": [
        "import numpy as np\n",
        "from matplotlib import pyplot as plt\n",
        "\n",
        "x = np.arange(1,11)\n",
        "y = 2 * x + 5\n",
        "plt.title(\"Matplotlib demo\")\n",
        "plt.xlabel(\"x axis caption\")\n",
        "plt.ylabel(\"y axis caption\")\n",
        "plt.plot(x,y,\"ob\")\n",
        "plt.show()"
      ],
      "execution_count": 33,
      "outputs": [
        {
          "output_type": "display_data",
          "data": {
            "text/plain": [
              "<Figure size 640x480 with 1 Axes>"
            ],
            "image/png": "[encoded data removed]"
          },
          "metadata": {}
        }
      ]
    },
    {
      "cell_type": "code",
      "metadata": {
        "id": "u0x_WrUkhJL4",
        "colab": {
          "base_uri": "https://localhost:8080/",
          "height": 452
        },
        "outputId": "4fd1434c-78fd-4453-95af-4e009247d723"
      },
      "source": [
        "import numpy as np\n",
        "import matplotlib.pyplot as plt\n",
        "\n",
        "# Compute the x and y coordinates for points on a sine curve\n",
        "x = np.arange(0, 3 * np.pi, 0.1)\n",
        "y = np.sin(x)\n",
        "plt.title(\"sine wave form\")\n",
        "\n",
        "# Plot the points using matplotlib\n",
        "plt.plot(x, y)\n",
        "plt.show()"
      ],
      "execution_count": 1,
      "outputs": [
        {
          "output_type": "display_data",
          "data": {
            "text/plain": [
              "<Figure size 640x480 with 1 Axes>"
            ],
            "image/png": "[encoded data removed]"
          },
          "metadata": {}
        }
      ]
    },
    {
      "cell_type": "code",
      "metadata": {
        "id": "1byVuM0ahNui",
        "colab": {
          "base_uri": "https://localhost:8080/",
          "height": 452
        },
        "outputId": "94b56a55-7018-46d6-bc4e-6965488f20ca"
      },
      "source": [
        "import numpy as np\n",
        "import matplotlib.pyplot as plt\n",
        "\n",
        "# Compute the x and y coordinates for points on sine and cosine curves\n",
        "x = np.arange(0, 3 * np.pi, 0.1)\n",
        "y_sin = np.sin(x)\n",
        "y_cos = np.cos(x)\n",
        "\n",
        "# Set up a subplot grid that has height 2 and width 1,\n",
        "# and set the first such subplot as active.\n",
        "plt.subplot(2, 1, 1)\n",
        "\n",
        "# Make the first plot\n",
        "plt.plot(x, y_sin)\n",
        "plt.title('Sine')\n",
        "\n",
        "# Set the second subplot as active, and make the second plot.\n",
        "plt.subplot(2, 1, 2)\n",
        "plt.plot(x, y_cos)\n",
        "plt.title('Cosine')\n",
        "\n",
        "# Show the figure.\n",
        "plt.show()"
      ],
      "execution_count": 2,
      "outputs": [
        {
          "output_type": "display_data",
          "data": {
            "text/plain": [
              "<Figure size 640x480 with 2 Axes>"
            ],
            "image/png": "[encoded data removed]"
          },
          "metadata": {}
        }
      ]
    },
    {
      "cell_type": "code",
      "metadata": {
        "id": "8uqiYgjDhbCr",
        "colab": {
          "base_uri": "https://localhost:8080/",
          "height": 472
        },
        "outputId": "05eff5b7-695a-48aa-803a-def5826ca0d2"
      },
      "source": [
        "from matplotlib import pyplot as plt\n",
        "x = [5,8,10]\n",
        "y = [12,16,6]\n",
        "\n",
        "x2 = [6,9,11]\n",
        "y2 = [6,15,7]\n",
        "plt.bar(x, y, align = 'center')\n",
        "plt.bar(x2, y2, color = 'g', align = 'center')\n",
        "plt.title('Bar graph')\n",
        "plt.ylabel('Y axis')\n",
        "plt.xlabel('X axis')\n",
        "\n",
        "plt.show()"
      ],
      "execution_count": 3,
      "outputs": [
        {
          "output_type": "display_data",
          "data": {
            "text/plain": [
              "<Figure size 640x480 with 1 Axes>"
            ],
            "image/png": "[encoded data removed]"
          },
          "metadata": {}
        }
      ]
    },
    {
      "cell_type": "code",
      "metadata": {
        "id": "z0s5TYWxhjef"
      },
      "source": [],
      "execution_count": 5,
      "outputs": []
    }
  ]
}